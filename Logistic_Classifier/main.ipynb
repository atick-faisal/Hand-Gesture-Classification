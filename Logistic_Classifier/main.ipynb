{
 "cells": [
  {
   "cell_type": "markdown",
   "metadata": {},
   "source": [
    "# Gesture Classification\n",
    "\n",
    "### Classifier: Logistic Regression\n",
    "### Accuracy: 54%"
   ]
  },
  {
   "cell_type": "code",
   "execution_count": 1,
   "metadata": {},
   "outputs": [],
   "source": [
    "import numpy as np\n",
    "import pandas as pd\n",
    "import matplotlib.pyplot as plt\n",
    "from sklearn.utils import shuffle\n",
    "from sklearn.linear_model import LogisticRegression"
   ]
  },
  {
   "cell_type": "code",
   "execution_count": 2,
   "metadata": {},
   "outputs": [
    {
     "data": {
      "text/html": [
       "<div>\n",
       "<style scoped>\n",
       "    .dataframe tbody tr th:only-of-type {\n",
       "        vertical-align: middle;\n",
       "    }\n",
       "\n",
       "    .dataframe tbody tr th {\n",
       "        vertical-align: top;\n",
       "    }\n",
       "\n",
       "    .dataframe thead th {\n",
       "        text-align: right;\n",
       "    }\n",
       "</style>\n",
       "<table border=\"1\" class=\"dataframe\">\n",
       "  <thead>\n",
       "    <tr style=\"text-align: right;\">\n",
       "      <th></th>\n",
       "      <th>1</th>\n",
       "      <th>2</th>\n",
       "      <th>3</th>\n",
       "      <th>4</th>\n",
       "      <th>5</th>\n",
       "      <th>x</th>\n",
       "      <th>y</th>\n",
       "      <th>z</th>\n",
       "      <th>gesture</th>\n",
       "    </tr>\n",
       "  </thead>\n",
       "  <tbody>\n",
       "    <tr>\n",
       "      <th>56</th>\n",
       "      <td>3015.600098</td>\n",
       "      <td>2891.699951</td>\n",
       "      <td>3088.000000</td>\n",
       "      <td>2862.500000</td>\n",
       "      <td>3154.600098</td>\n",
       "      <td>-57.519531</td>\n",
       "      <td>-30.102539</td>\n",
       "      <td>47.753906</td>\n",
       "      <td>Two</td>\n",
       "    </tr>\n",
       "    <tr>\n",
       "      <th>83</th>\n",
       "      <td>3000.600098</td>\n",
       "      <td>2894.300049</td>\n",
       "      <td>3035.000000</td>\n",
       "      <td>2841.399902</td>\n",
       "      <td>3122.500000</td>\n",
       "      <td>-65.991211</td>\n",
       "      <td>-19.360352</td>\n",
       "      <td>33.520508</td>\n",
       "      <td>Five</td>\n",
       "    </tr>\n",
       "    <tr>\n",
       "      <th>19</th>\n",
       "      <td>3020.399902</td>\n",
       "      <td>2862.199951</td>\n",
       "      <td>3063.399902</td>\n",
       "      <td>2868.199951</td>\n",
       "      <td>3138.300049</td>\n",
       "      <td>14.721680</td>\n",
       "      <td>13.745117</td>\n",
       "      <td>-96.655273</td>\n",
       "      <td>Whoosh</td>\n",
       "    </tr>\n",
       "    <tr>\n",
       "      <th>31</th>\n",
       "      <td>3014.600098</td>\n",
       "      <td>2911.300049</td>\n",
       "      <td>3079.199951</td>\n",
       "      <td>2905.399902</td>\n",
       "      <td>3143.000000</td>\n",
       "      <td>-2.465820</td>\n",
       "      <td>-7.543945</td>\n",
       "      <td>-93.139648</td>\n",
       "      <td>Finger Crossed</td>\n",
       "    </tr>\n",
       "    <tr>\n",
       "      <th>76</th>\n",
       "      <td>3005.300049</td>\n",
       "      <td>2899.199951</td>\n",
       "      <td>3051.399902</td>\n",
       "      <td>2866.000000</td>\n",
       "      <td>3129.199951</td>\n",
       "      <td>-61.938477</td>\n",
       "      <td>-22.216797</td>\n",
       "      <td>38.281250</td>\n",
       "      <td>Four</td>\n",
       "    </tr>\n",
       "  </tbody>\n",
       "</table>\n",
       "</div>"
      ],
      "text/plain": [
       "              1            2            3            4            5  \\\n",
       "56  3015.600098  2891.699951  3088.000000  2862.500000  3154.600098   \n",
       "83  3000.600098  2894.300049  3035.000000  2841.399902  3122.500000   \n",
       "19  3020.399902  2862.199951  3063.399902  2868.199951  3138.300049   \n",
       "31  3014.600098  2911.300049  3079.199951  2905.399902  3143.000000   \n",
       "76  3005.300049  2899.199951  3051.399902  2866.000000  3129.199951   \n",
       "\n",
       "            x          y          z         gesture  \n",
       "56 -57.519531 -30.102539  47.753906             Two  \n",
       "83 -65.991211 -19.360352  33.520508            Five  \n",
       "19  14.721680  13.745117 -96.655273          Whoosh  \n",
       "31  -2.465820  -7.543945 -93.139648  Finger Crossed  \n",
       "76 -61.938477 -22.216797  38.281250            Four  "
      ]
     },
     "execution_count": 2,
     "metadata": {},
     "output_type": "execute_result"
    }
   ],
   "source": [
    "data = pd.read_csv('../Desktop_Software/data/dataset.csv')\n",
    "data.columns = ['1', '2', '3', '4', '5', 'x', 'y', 'z', 'gesture']\n",
    "train_data = shuffle(data, random_state=42)\n",
    "train_data.head()"
   ]
  },
  {
   "cell_type": "code",
   "execution_count": 3,
   "metadata": {},
   "outputs": [],
   "source": [
    "X = train_data.drop(columns=['gesture'])\n",
    "Y = train_data['gesture']"
   ]
  },
  {
   "cell_type": "code",
   "execution_count": 5,
   "metadata": {},
   "outputs": [
    {
     "name": "stderr",
     "output_type": "stream",
     "text": [
      "/home/andromeda/Documents/Machine-Learning/env/lib/python3.5/site-packages/sklearn/linear_model/logistic.py:758: ConvergenceWarning: lbfgs failed to converge. Increase the number of iterations.\n",
      "  \"of iterations.\", ConvergenceWarning)\n"
     ]
    }
   ],
   "source": [
    "clf = LogisticRegression(random_state=0, solver='lbfgs', multi_class='multinomial');\n",
    "clf.fit(X, Y);\n",
    "weights = clf.coef_\n",
    "biases = np.resize(clf.intercept_, (1,14))"
   ]
  },
  {
   "cell_type": "code",
   "execution_count": 6,
   "metadata": {},
   "outputs": [
    {
     "name": "stdout",
     "output_type": "stream",
     "text": [
      "100.0 %\n"
     ]
    },
    {
     "data": {
      "text/plain": [
       "LogisticRegression(C=1.0, class_weight=None, dual=False, fit_intercept=True,\n",
       "          intercept_scaling=1, max_iter=100, multi_class='multinomial',\n",
       "          n_jobs=None, penalty='l2', random_state=0, solver='lbfgs',\n",
       "          tol=0.0001, verbose=0, warm_start=False)"
      ]
     },
     "execution_count": 6,
     "metadata": {},
     "output_type": "execute_result"
    }
   ],
   "source": [
    "print(clf.score(X, Y)*100 , \"%\")\n",
    "clf"
   ]
  },
  {
   "cell_type": "code",
   "execution_count": 7,
   "metadata": {},
   "outputs": [],
   "source": [
    "np.savetxt('../Desktop_Software/data/weights.csv', weights, delimiter=',')\n",
    "np.savetxt('../Desktop_Software/data/biases.csv', biases, delimiter=',')"
   ]
  },
  {
   "cell_type": "code",
   "execution_count": 8,
   "metadata": {},
   "outputs": [
    {
     "name": "stdout",
     "output_type": "stream",
     "text": [
      "['Thumbs Up']\n"
     ]
    }
   ],
   "source": [
    "print(clf.predict([[3004.300049,2925.899902,3091.800049,2917.199951,3166.199951,12.744141,-98.706055,12.402344]]))"
   ]
  },
  {
   "cell_type": "code",
   "execution_count": null,
   "metadata": {},
   "outputs": [],
   "source": []
  }
 ],
 "metadata": {
  "kernelspec": {
   "display_name": "Python 3",
   "language": "python",
   "name": "python3"
  },
  "language_info": {
   "codemirror_mode": {
    "name": "ipython",
    "version": 3
   },
   "file_extension": ".py",
   "mimetype": "text/x-python",
   "name": "python",
   "nbconvert_exporter": "python",
   "pygments_lexer": "ipython3",
   "version": "3.5.2"
  }
 },
 "nbformat": 4,
 "nbformat_minor": 2
}
