{
 "cells": [
  {
   "cell_type": "markdown",
   "metadata": {},
   "source": [
    "# Gesture Classification\n",
    "\n",
    "### Classifier: Logistic Regression\n",
    "### Accuracy: 54%"
   ]
  },
  {
   "cell_type": "code",
   "execution_count": 1,
   "metadata": {},
   "outputs": [],
   "source": [
    "import numpy as np\n",
    "import pandas as pd\n",
    "import matplotlib.pyplot as plt\n",
    "from sklearn.utils import shuffle\n",
    "from sklearn.linear_model import LogisticRegression"
   ]
  },
  {
   "cell_type": "code",
   "execution_count": 2,
   "metadata": {},
   "outputs": [
    {
     "data": {
      "text/html": [
       "<div>\n",
       "<style scoped>\n",
       "    .dataframe tbody tr th:only-of-type {\n",
       "        vertical-align: middle;\n",
       "    }\n",
       "\n",
       "    .dataframe tbody tr th {\n",
       "        vertical-align: top;\n",
       "    }\n",
       "\n",
       "    .dataframe thead th {\n",
       "        text-align: right;\n",
       "    }\n",
       "</style>\n",
       "<table border=\"1\" class=\"dataframe\">\n",
       "  <thead>\n",
       "    <tr style=\"text-align: right;\">\n",
       "      <th></th>\n",
       "      <th>1</th>\n",
       "      <th>2</th>\n",
       "      <th>3</th>\n",
       "      <th>4</th>\n",
       "      <th>5</th>\n",
       "      <th>x</th>\n",
       "      <th>y</th>\n",
       "      <th>z</th>\n",
       "      <th>gesture</th>\n",
       "    </tr>\n",
       "  </thead>\n",
       "  <tbody>\n",
       "    <tr>\n",
       "      <th>22</th>\n",
       "      <td>275.0</td>\n",
       "      <td>189.0</td>\n",
       "      <td>350.0</td>\n",
       "      <td>155.0</td>\n",
       "      <td>455.0</td>\n",
       "      <td>-18.676758</td>\n",
       "      <td>-19.897461</td>\n",
       "      <td>88.330078</td>\n",
       "      <td>Middle Finger</td>\n",
       "    </tr>\n",
       "    <tr>\n",
       "      <th>0</th>\n",
       "      <td>275.0</td>\n",
       "      <td>177.0</td>\n",
       "      <td>297.0</td>\n",
       "      <td>91.0</td>\n",
       "      <td>407.0</td>\n",
       "      <td>18.945312</td>\n",
       "      <td>-6.567383</td>\n",
       "      <td>104.956055</td>\n",
       "      <td>Come Here</td>\n",
       "    </tr>\n",
       "    <tr>\n",
       "      <th>47</th>\n",
       "      <td>260.0</td>\n",
       "      <td>159.0</td>\n",
       "      <td>273.0</td>\n",
       "      <td>69.0</td>\n",
       "      <td>388.0</td>\n",
       "      <td>-58.300781</td>\n",
       "      <td>-5.126953</td>\n",
       "      <td>56.738281</td>\n",
       "      <td>Five</td>\n",
       "    </tr>\n",
       "    <tr>\n",
       "      <th>4</th>\n",
       "      <td>275.0</td>\n",
       "      <td>175.0</td>\n",
       "      <td>343.0</td>\n",
       "      <td>179.0</td>\n",
       "      <td>421.0</td>\n",
       "      <td>40.112305</td>\n",
       "      <td>8.374023</td>\n",
       "      <td>-100.415039</td>\n",
       "      <td>Go Away</td>\n",
       "    </tr>\n",
       "    <tr>\n",
       "      <th>53</th>\n",
       "      <td>283.0</td>\n",
       "      <td>185.0</td>\n",
       "      <td>324.0</td>\n",
       "      <td>91.0</td>\n",
       "      <td>391.0</td>\n",
       "      <td>-5.493164</td>\n",
       "      <td>-92.871094</td>\n",
       "      <td>-6.787109</td>\n",
       "      <td>Excellent</td>\n",
       "    </tr>\n",
       "  </tbody>\n",
       "</table>\n",
       "</div>"
      ],
      "text/plain": [
       "        1      2      3      4      5          x          y           z  \\\n",
       "22  275.0  189.0  350.0  155.0  455.0 -18.676758 -19.897461   88.330078   \n",
       "0   275.0  177.0  297.0   91.0  407.0  18.945312  -6.567383  104.956055   \n",
       "47  260.0  159.0  273.0   69.0  388.0 -58.300781  -5.126953   56.738281   \n",
       "4   275.0  175.0  343.0  179.0  421.0  40.112305   8.374023 -100.415039   \n",
       "53  283.0  185.0  324.0   91.0  391.0  -5.493164 -92.871094   -6.787109   \n",
       "\n",
       "          gesture  \n",
       "22  Middle Finger  \n",
       "0       Come Here  \n",
       "47           Five  \n",
       "4         Go Away  \n",
       "53      Excellent  "
      ]
     },
     "execution_count": 2,
     "metadata": {},
     "output_type": "execute_result"
    }
   ],
   "source": [
    "data = pd.read_csv('../Desktop_Software/data/dataset.csv')\n",
    "data.columns = ['1', '2', '3', '4', '5', 'x', 'y', 'z', 'gesture']\n",
    "train_data = shuffle(data, random_state=42)\n",
    "train_data.head()"
   ]
  },
  {
   "cell_type": "code",
   "execution_count": 3,
   "metadata": {},
   "outputs": [],
   "source": [
    "X = train_data.drop(columns=['gesture'])\n",
    "Y = train_data['gesture']"
   ]
  },
  {
   "cell_type": "code",
   "execution_count": 7,
   "metadata": {},
   "outputs": [],
   "source": [
    "clf = LogisticRegression(random_state=0, solver='lbfgs',max_iter=10000, multi_class='multinomial');\n",
    "clf.fit(X, Y);\n",
    "weights = clf.coef_\n",
    "biases = np.resize(clf.intercept_, (1,14))"
   ]
  },
  {
   "cell_type": "code",
   "execution_count": 8,
   "metadata": {},
   "outputs": [
    {
     "name": "stdout",
     "output_type": "stream",
     "text": [
      "100.0 %\n"
     ]
    }
   ],
   "source": [
    "print(clf.score(X, Y)*100 , \"%\")"
   ]
  },
  {
   "cell_type": "code",
   "execution_count": 9,
   "metadata": {},
   "outputs": [],
   "source": [
    "np.savetxt('../Desktop_Software/data/weights.csv', weights, delimiter=',')\n",
    "np.savetxt('../Desktop_Software/data/biases.csv', biases, delimiter=',')"
   ]
  },
  {
   "cell_type": "code",
   "execution_count": null,
   "metadata": {},
   "outputs": [],
   "source": []
  }
 ],
 "metadata": {
  "kernelspec": {
   "display_name": "Python 3",
   "language": "python",
   "name": "python3"
  },
  "language_info": {
   "codemirror_mode": {
    "name": "ipython",
    "version": 3
   },
   "file_extension": ".py",
   "mimetype": "text/x-python",
   "name": "python",
   "nbconvert_exporter": "python",
   "pygments_lexer": "ipython3",
   "version": "3.5.2"
  }
 },
 "nbformat": 4,
 "nbformat_minor": 2
}
