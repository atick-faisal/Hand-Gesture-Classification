{
 "cells": [
  {
   "cell_type": "markdown",
   "metadata": {},
   "source": [
    "# Gesture Classification\n",
    "\n",
    "### Classifier: Logistic Regression\n",
    "### Accuracy: 54%"
   ]
  },
  {
   "cell_type": "code",
   "execution_count": 1,
   "metadata": {},
   "outputs": [],
   "source": [
    "import numpy as np\n",
    "import pandas as pd\n",
    "import matplotlib.pyplot as plt\n",
    "from sklearn.utils import shuffle\n",
    "from sklearn.linear_model import LogisticRegression"
   ]
  },
  {
   "cell_type": "code",
   "execution_count": 2,
   "metadata": {},
   "outputs": [
    {
     "data": {
      "text/html": [
       "<div>\n",
       "<style scoped>\n",
       "    .dataframe tbody tr th:only-of-type {\n",
       "        vertical-align: middle;\n",
       "    }\n",
       "\n",
       "    .dataframe tbody tr th {\n",
       "        vertical-align: top;\n",
       "    }\n",
       "\n",
       "    .dataframe thead th {\n",
       "        text-align: right;\n",
       "    }\n",
       "</style>\n",
       "<table border=\"1\" class=\"dataframe\">\n",
       "  <thead>\n",
       "    <tr style=\"text-align: right;\">\n",
       "      <th></th>\n",
       "      <th>1</th>\n",
       "      <th>2</th>\n",
       "      <th>3</th>\n",
       "      <th>4</th>\n",
       "      <th>5</th>\n",
       "      <th>x</th>\n",
       "      <th>y</th>\n",
       "      <th>z</th>\n",
       "      <th>gesture</th>\n",
       "    </tr>\n",
       "  </thead>\n",
       "  <tbody>\n",
       "    <tr>\n",
       "      <th>27</th>\n",
       "      <td>297.0</td>\n",
       "      <td>229.0</td>\n",
       "      <td>369.0</td>\n",
       "      <td>195.0</td>\n",
       "      <td>447.0</td>\n",
       "      <td>38.745117</td>\n",
       "      <td>86.059570</td>\n",
       "      <td>-50.976562</td>\n",
       "      <td>Thumbs Down</td>\n",
       "    </tr>\n",
       "    <tr>\n",
       "      <th>15</th>\n",
       "      <td>289.0</td>\n",
       "      <td>218.0</td>\n",
       "      <td>387.0</td>\n",
       "      <td>217.0</td>\n",
       "      <td>439.0</td>\n",
       "      <td>-19.189453</td>\n",
       "      <td>-87.329102</td>\n",
       "      <td>-26.928711</td>\n",
       "      <td>Thumbs Up</td>\n",
       "    </tr>\n",
       "    <tr>\n",
       "      <th>23</th>\n",
       "      <td>293.0</td>\n",
       "      <td>227.0</td>\n",
       "      <td>388.0</td>\n",
       "      <td>217.0</td>\n",
       "      <td>451.0</td>\n",
       "      <td>29.492188</td>\n",
       "      <td>91.479492</td>\n",
       "      <td>-41.430664</td>\n",
       "      <td>Thumbs Down</td>\n",
       "    </tr>\n",
       "    <tr>\n",
       "      <th>17</th>\n",
       "      <td>292.0</td>\n",
       "      <td>228.0</td>\n",
       "      <td>371.0</td>\n",
       "      <td>217.0</td>\n",
       "      <td>442.0</td>\n",
       "      <td>-8.544922</td>\n",
       "      <td>-76.342773</td>\n",
       "      <td>-7.543945</td>\n",
       "      <td>Thumbs Up</td>\n",
       "    </tr>\n",
       "    <tr>\n",
       "      <th>8</th>\n",
       "      <td>324.0</td>\n",
       "      <td>226.0</td>\n",
       "      <td>347.0</td>\n",
       "      <td>193.0</td>\n",
       "      <td>431.0</td>\n",
       "      <td>-63.720703</td>\n",
       "      <td>12.280273</td>\n",
       "      <td>44.091797</td>\n",
       "      <td>Excellent</td>\n",
       "    </tr>\n",
       "  </tbody>\n",
       "</table>\n",
       "</div>"
      ],
      "text/plain": [
       "        1      2      3      4      5          x          y          z  \\\n",
       "27  297.0  229.0  369.0  195.0  447.0  38.745117  86.059570 -50.976562   \n",
       "15  289.0  218.0  387.0  217.0  439.0 -19.189453 -87.329102 -26.928711   \n",
       "23  293.0  227.0  388.0  217.0  451.0  29.492188  91.479492 -41.430664   \n",
       "17  292.0  228.0  371.0  217.0  442.0  -8.544922 -76.342773  -7.543945   \n",
       "8   324.0  226.0  347.0  193.0  431.0 -63.720703  12.280273  44.091797   \n",
       "\n",
       "        gesture  \n",
       "27  Thumbs Down  \n",
       "15    Thumbs Up  \n",
       "23  Thumbs Down  \n",
       "17    Thumbs Up  \n",
       "8     Excellent  "
      ]
     },
     "execution_count": 2,
     "metadata": {},
     "output_type": "execute_result"
    }
   ],
   "source": [
    "data = pd.read_csv('../Desktop_Software/data/dataset.csv')\n",
    "data.columns = ['1', '2', '3', '4', '5', 'x', 'y', 'z', 'gesture']\n",
    "train_data = shuffle(data, random_state=42)\n",
    "train_data.head()"
   ]
  },
  {
   "cell_type": "code",
   "execution_count": 3,
   "metadata": {},
   "outputs": [],
   "source": [
    "X = train_data.drop(columns=['1', '2', '3', '4', '5', 'gesture'])\n",
    "Y = train_data['gesture']"
   ]
  },
  {
   "cell_type": "code",
   "execution_count": 7,
   "metadata": {},
   "outputs": [
    {
     "ename": "AttributeError",
     "evalue": "'LogisticRegression' object has no attribute 'info_'",
     "output_type": "error",
     "traceback": [
      "\u001b[0;31m---------------------------------------------------------------------------\u001b[0m",
      "\u001b[0;31mAttributeError\u001b[0m                            Traceback (most recent call last)",
      "\u001b[0;32m<ipython-input-7-128fcb643a80>\u001b[0m in \u001b[0;36m<module>\u001b[0;34m\u001b[0m\n\u001b[1;32m      1\u001b[0m \u001b[0mclf\u001b[0m \u001b[0;34m=\u001b[0m \u001b[0mLogisticRegression\u001b[0m\u001b[0;34m(\u001b[0m\u001b[0mrandom_state\u001b[0m\u001b[0;34m=\u001b[0m\u001b[0;36m0\u001b[0m\u001b[0;34m,\u001b[0m \u001b[0msolver\u001b[0m\u001b[0;34m=\u001b[0m\u001b[0;34m'lbfgs'\u001b[0m\u001b[0;34m,\u001b[0m \u001b[0mmulti_class\u001b[0m\u001b[0;34m=\u001b[0m\u001b[0;34m'multinomial'\u001b[0m\u001b[0;34m)\u001b[0m\u001b[0;34m;\u001b[0m\u001b[0;34m\u001b[0m\u001b[0m\n\u001b[1;32m      2\u001b[0m \u001b[0mclf\u001b[0m\u001b[0;34m.\u001b[0m\u001b[0mfit\u001b[0m\u001b[0;34m(\u001b[0m\u001b[0mX\u001b[0m\u001b[0;34m,\u001b[0m \u001b[0mY\u001b[0m\u001b[0;34m)\u001b[0m\u001b[0;34m;\u001b[0m\u001b[0;34m\u001b[0m\u001b[0m\n\u001b[0;32m----> 3\u001b[0;31m \u001b[0mclf\u001b[0m\u001b[0;34m.\u001b[0m\u001b[0minfo_\u001b[0m\u001b[0;34m\u001b[0m\u001b[0m\n\u001b[0m\u001b[1;32m      4\u001b[0m \u001b[0mweights\u001b[0m \u001b[0;34m=\u001b[0m \u001b[0mclf\u001b[0m\u001b[0;34m.\u001b[0m\u001b[0mcoef_\u001b[0m\u001b[0;34m\u001b[0m\u001b[0m\n\u001b[1;32m      5\u001b[0m \u001b[0mbiases\u001b[0m \u001b[0;34m=\u001b[0m \u001b[0mnp\u001b[0m\u001b[0;34m.\u001b[0m\u001b[0mresize\u001b[0m\u001b[0;34m(\u001b[0m\u001b[0mclf\u001b[0m\u001b[0;34m.\u001b[0m\u001b[0mintercept_\u001b[0m\u001b[0;34m,\u001b[0m \u001b[0;34m(\u001b[0m\u001b[0;36m1\u001b[0m\u001b[0;34m,\u001b[0m\u001b[0;36m3\u001b[0m\u001b[0;34m)\u001b[0m\u001b[0;34m)\u001b[0m\u001b[0;34m\u001b[0m\u001b[0m\n",
      "\u001b[0;31mAttributeError\u001b[0m: 'LogisticRegression' object has no attribute 'info_'"
     ]
    }
   ],
   "source": [
    "clf = LogisticRegression(random_state=0, solver='lbfgs', multi_class='multinomial');\n",
    "clf.fit(X, Y);\n",
    "weights = clf.coef_\n",
    "biases = np.resize(clf.intercept_, (1,3))"
   ]
  },
  {
   "cell_type": "code",
   "execution_count": 5,
   "metadata": {},
   "outputs": [
    {
     "name": "stdout",
     "output_type": "stream",
     "text": [
      "100.0 %\n"
     ]
    }
   ],
   "source": [
    "print(clf.score(X, Y)*100 , \"%\")"
   ]
  },
  {
   "cell_type": "code",
   "execution_count": 6,
   "metadata": {},
   "outputs": [],
   "source": [
    "np.savetxt('../Desktop_Software/data/weights.csv', weights, delimiter=',')\n",
    "np.savetxt('../Desktop_Software/data/biases.csv', biases, delimiter=',')"
   ]
  },
  {
   "cell_type": "code",
   "execution_count": null,
   "metadata": {},
   "outputs": [],
   "source": []
  }
 ],
 "metadata": {
  "kernelspec": {
   "display_name": "Python 3",
   "language": "python",
   "name": "python3"
  },
  "language_info": {
   "codemirror_mode": {
    "name": "ipython",
    "version": 3
   },
   "file_extension": ".py",
   "mimetype": "text/x-python",
   "name": "python",
   "nbconvert_exporter": "python",
   "pygments_lexer": "ipython3",
   "version": "3.5.2"
  }
 },
 "nbformat": 4,
 "nbformat_minor": 2
}
