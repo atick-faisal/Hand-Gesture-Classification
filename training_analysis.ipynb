{
  "nbformat": 4,
  "nbformat_minor": 0,
  "metadata": {
    "colab": {
      "name": "Hand_Gesture_Recognition",
      "provenance": [],
      "authorship_tag": "ABX9TyNJl4ZPouILDQAHvoOHgotJ",
      "include_colab_link": true
    },
    "kernelspec": {
      "name": "python3",
      "display_name": "Python 3"
    },
    "language_info": {
      "name": "python"
    },
    "widgets": {
      "application/vnd.jupyter.widget-state+json": {
        "d8b9931151634079935c9827198a08c1": {
          "model_module": "@jupyter-widgets/controls",
          "model_name": "HBoxModel",
          "state": {
            "_view_name": "HBoxView",
            "_dom_classes": [],
            "_model_name": "HBoxModel",
            "_view_module": "@jupyter-widgets/controls",
            "_model_module_version": "1.5.0",
            "_view_count": null,
            "_view_module_version": "1.5.0",
            "box_style": "",
            "layout": "IPY_MODEL_1bc400bd197f4e67b94ae1dc62892e4f",
            "_model_module": "@jupyter-widgets/controls",
            "children": [
              "IPY_MODEL_fe8e71bb465b46f38dabc32709c7c7ae",
              "IPY_MODEL_0d1ac81f19ba4a1589209d31bc9fb9e6"
            ]
          }
        },
        "1bc400bd197f4e67b94ae1dc62892e4f": {
          "model_module": "@jupyter-widgets/base",
          "model_name": "LayoutModel",
          "state": {
            "_view_name": "LayoutView",
            "grid_template_rows": null,
            "right": null,
            "justify_content": null,
            "_view_module": "@jupyter-widgets/base",
            "overflow": null,
            "_model_module_version": "1.2.0",
            "_view_count": null,
            "flex_flow": null,
            "width": null,
            "min_width": null,
            "border": null,
            "align_items": null,
            "bottom": null,
            "_model_module": "@jupyter-widgets/base",
            "top": null,
            "grid_column": null,
            "overflow_y": null,
            "overflow_x": null,
            "grid_auto_flow": null,
            "grid_area": null,
            "grid_template_columns": null,
            "flex": null,
            "_model_name": "LayoutModel",
            "justify_items": null,
            "grid_row": null,
            "max_height": null,
            "align_content": null,
            "visibility": null,
            "align_self": null,
            "height": null,
            "min_height": null,
            "padding": null,
            "grid_auto_rows": null,
            "grid_gap": null,
            "max_width": null,
            "order": null,
            "_view_module_version": "1.2.0",
            "grid_template_areas": null,
            "object_position": null,
            "object_fit": null,
            "grid_auto_columns": null,
            "margin": null,
            "display": null,
            "left": null
          }
        },
        "fe8e71bb465b46f38dabc32709c7c7ae": {
          "model_module": "@jupyter-widgets/controls",
          "model_name": "FloatProgressModel",
          "state": {
            "_view_name": "ProgressView",
            "style": "IPY_MODEL_06bfa060d5e3433294c3cf040f07a0a8",
            "_dom_classes": [],
            "description": "100%",
            "_model_name": "FloatProgressModel",
            "bar_style": "success",
            "max": 5,
            "_view_module": "@jupyter-widgets/controls",
            "_model_module_version": "1.5.0",
            "value": 5,
            "_view_count": null,
            "_view_module_version": "1.5.0",
            "orientation": "horizontal",
            "min": 0,
            "description_tooltip": null,
            "_model_module": "@jupyter-widgets/controls",
            "layout": "IPY_MODEL_5438b0b8ac2744d08e989c70edfad872"
          }
        },
        "0d1ac81f19ba4a1589209d31bc9fb9e6": {
          "model_module": "@jupyter-widgets/controls",
          "model_name": "HTMLModel",
          "state": {
            "_view_name": "HTMLView",
            "style": "IPY_MODEL_bcd3280396cc4501b66206d9fd86e077",
            "_dom_classes": [],
            "description": "",
            "_model_name": "HTMLModel",
            "placeholder": "​",
            "_view_module": "@jupyter-widgets/controls",
            "_model_module_version": "1.5.0",
            "value": " 5/5 [00:30&lt;00:00,  6.12s/it]",
            "_view_count": null,
            "_view_module_version": "1.5.0",
            "description_tooltip": null,
            "_model_module": "@jupyter-widgets/controls",
            "layout": "IPY_MODEL_7e2a360114f441e8aeb2853c58e553f2"
          }
        },
        "06bfa060d5e3433294c3cf040f07a0a8": {
          "model_module": "@jupyter-widgets/controls",
          "model_name": "ProgressStyleModel",
          "state": {
            "_view_name": "StyleView",
            "_model_name": "ProgressStyleModel",
            "description_width": "initial",
            "_view_module": "@jupyter-widgets/base",
            "_model_module_version": "1.5.0",
            "_view_count": null,
            "_view_module_version": "1.2.0",
            "bar_color": null,
            "_model_module": "@jupyter-widgets/controls"
          }
        },
        "5438b0b8ac2744d08e989c70edfad872": {
          "model_module": "@jupyter-widgets/base",
          "model_name": "LayoutModel",
          "state": {
            "_view_name": "LayoutView",
            "grid_template_rows": null,
            "right": null,
            "justify_content": null,
            "_view_module": "@jupyter-widgets/base",
            "overflow": null,
            "_model_module_version": "1.2.0",
            "_view_count": null,
            "flex_flow": null,
            "width": null,
            "min_width": null,
            "border": null,
            "align_items": null,
            "bottom": null,
            "_model_module": "@jupyter-widgets/base",
            "top": null,
            "grid_column": null,
            "overflow_y": null,
            "overflow_x": null,
            "grid_auto_flow": null,
            "grid_area": null,
            "grid_template_columns": null,
            "flex": null,
            "_model_name": "LayoutModel",
            "justify_items": null,
            "grid_row": null,
            "max_height": null,
            "align_content": null,
            "visibility": null,
            "align_self": null,
            "height": null,
            "min_height": null,
            "padding": null,
            "grid_auto_rows": null,
            "grid_gap": null,
            "max_width": null,
            "order": null,
            "_view_module_version": "1.2.0",
            "grid_template_areas": null,
            "object_position": null,
            "object_fit": null,
            "grid_auto_columns": null,
            "margin": null,
            "display": null,
            "left": null
          }
        },
        "bcd3280396cc4501b66206d9fd86e077": {
          "model_module": "@jupyter-widgets/controls",
          "model_name": "DescriptionStyleModel",
          "state": {
            "_view_name": "StyleView",
            "_model_name": "DescriptionStyleModel",
            "description_width": "",
            "_view_module": "@jupyter-widgets/base",
            "_model_module_version": "1.5.0",
            "_view_count": null,
            "_view_module_version": "1.2.0",
            "_model_module": "@jupyter-widgets/controls"
          }
        },
        "7e2a360114f441e8aeb2853c58e553f2": {
          "model_module": "@jupyter-widgets/base",
          "model_name": "LayoutModel",
          "state": {
            "_view_name": "LayoutView",
            "grid_template_rows": null,
            "right": null,
            "justify_content": null,
            "_view_module": "@jupyter-widgets/base",
            "overflow": null,
            "_model_module_version": "1.2.0",
            "_view_count": null,
            "flex_flow": null,
            "width": null,
            "min_width": null,
            "border": null,
            "align_items": null,
            "bottom": null,
            "_model_module": "@jupyter-widgets/base",
            "top": null,
            "grid_column": null,
            "overflow_y": null,
            "overflow_x": null,
            "grid_auto_flow": null,
            "grid_area": null,
            "grid_template_columns": null,
            "flex": null,
            "_model_name": "LayoutModel",
            "justify_items": null,
            "grid_row": null,
            "max_height": null,
            "align_content": null,
            "visibility": null,
            "align_self": null,
            "height": null,
            "min_height": null,
            "padding": null,
            "grid_auto_rows": null,
            "grid_gap": null,
            "max_width": null,
            "order": null,
            "_view_module_version": "1.2.0",
            "grid_template_areas": null,
            "object_position": null,
            "object_fit": null,
            "grid_auto_columns": null,
            "margin": null,
            "display": null,
            "left": null
          }
        },
        "a2e70a0665404829af8cfdaeab23c523": {
          "model_module": "@jupyter-widgets/controls",
          "model_name": "HBoxModel",
          "state": {
            "_view_name": "HBoxView",
            "_dom_classes": [],
            "_model_name": "HBoxModel",
            "_view_module": "@jupyter-widgets/controls",
            "_model_module_version": "1.5.0",
            "_view_count": null,
            "_view_module_version": "1.5.0",
            "box_style": "",
            "layout": "IPY_MODEL_fe3d5caa6be84673aac9119b8ea12b2a",
            "_model_module": "@jupyter-widgets/controls",
            "children": [
              "IPY_MODEL_f137787f4fea4faaa559669e797f63db",
              "IPY_MODEL_0d68dc84add34645ba3d614eff743f14"
            ]
          }
        },
        "fe3d5caa6be84673aac9119b8ea12b2a": {
          "model_module": "@jupyter-widgets/base",
          "model_name": "LayoutModel",
          "state": {
            "_view_name": "LayoutView",
            "grid_template_rows": null,
            "right": null,
            "justify_content": null,
            "_view_module": "@jupyter-widgets/base",
            "overflow": null,
            "_model_module_version": "1.2.0",
            "_view_count": null,
            "flex_flow": null,
            "width": null,
            "min_width": null,
            "border": null,
            "align_items": null,
            "bottom": null,
            "_model_module": "@jupyter-widgets/base",
            "top": null,
            "grid_column": null,
            "overflow_y": null,
            "overflow_x": null,
            "grid_auto_flow": null,
            "grid_area": null,
            "grid_template_columns": null,
            "flex": null,
            "_model_name": "LayoutModel",
            "justify_items": null,
            "grid_row": null,
            "max_height": null,
            "align_content": null,
            "visibility": null,
            "align_self": null,
            "height": null,
            "min_height": null,
            "padding": null,
            "grid_auto_rows": null,
            "grid_gap": null,
            "max_width": null,
            "order": null,
            "_view_module_version": "1.2.0",
            "grid_template_areas": null,
            "object_position": null,
            "object_fit": null,
            "grid_auto_columns": null,
            "margin": null,
            "display": null,
            "left": null
          }
        },
        "f137787f4fea4faaa559669e797f63db": {
          "model_module": "@jupyter-widgets/controls",
          "model_name": "FloatProgressModel",
          "state": {
            "_view_name": "ProgressView",
            "style": "IPY_MODEL_367aaf79752b40699c10402e59d90f28",
            "_dom_classes": [],
            "description": "100%",
            "_model_name": "FloatProgressModel",
            "bar_style": "success",
            "max": 1,
            "_view_module": "@jupyter-widgets/controls",
            "_model_module_version": "1.5.0",
            "value": 1,
            "_view_count": null,
            "_view_module_version": "1.5.0",
            "orientation": "horizontal",
            "min": 0,
            "description_tooltip": null,
            "_model_module": "@jupyter-widgets/controls",
            "layout": "IPY_MODEL_1514e1782dcb4967b7e819574b72b3ee"
          }
        },
        "0d68dc84add34645ba3d614eff743f14": {
          "model_module": "@jupyter-widgets/controls",
          "model_name": "HTMLModel",
          "state": {
            "_view_name": "HTMLView",
            "style": "IPY_MODEL_bb0b56c57cc14e909cea5952783d0d7a",
            "_dom_classes": [],
            "description": "",
            "_model_name": "HTMLModel",
            "placeholder": "​",
            "_view_module": "@jupyter-widgets/controls",
            "_model_module_version": "1.5.0",
            "value": " 1/1 [00:16&lt;00:00, 16.39s/it]",
            "_view_count": null,
            "_view_module_version": "1.5.0",
            "description_tooltip": null,
            "_model_module": "@jupyter-widgets/controls",
            "layout": "IPY_MODEL_e8e7fc276dd2427a9f7860b08a115cbd"
          }
        },
        "367aaf79752b40699c10402e59d90f28": {
          "model_module": "@jupyter-widgets/controls",
          "model_name": "ProgressStyleModel",
          "state": {
            "_view_name": "StyleView",
            "_model_name": "ProgressStyleModel",
            "description_width": "initial",
            "_view_module": "@jupyter-widgets/base",
            "_model_module_version": "1.5.0",
            "_view_count": null,
            "_view_module_version": "1.2.0",
            "bar_color": null,
            "_model_module": "@jupyter-widgets/controls"
          }
        },
        "1514e1782dcb4967b7e819574b72b3ee": {
          "model_module": "@jupyter-widgets/base",
          "model_name": "LayoutModel",
          "state": {
            "_view_name": "LayoutView",
            "grid_template_rows": null,
            "right": null,
            "justify_content": null,
            "_view_module": "@jupyter-widgets/base",
            "overflow": null,
            "_model_module_version": "1.2.0",
            "_view_count": null,
            "flex_flow": null,
            "width": null,
            "min_width": null,
            "border": null,
            "align_items": null,
            "bottom": null,
            "_model_module": "@jupyter-widgets/base",
            "top": null,
            "grid_column": null,
            "overflow_y": null,
            "overflow_x": null,
            "grid_auto_flow": null,
            "grid_area": null,
            "grid_template_columns": null,
            "flex": null,
            "_model_name": "LayoutModel",
            "justify_items": null,
            "grid_row": null,
            "max_height": null,
            "align_content": null,
            "visibility": null,
            "align_self": null,
            "height": null,
            "min_height": null,
            "padding": null,
            "grid_auto_rows": null,
            "grid_gap": null,
            "max_width": null,
            "order": null,
            "_view_module_version": "1.2.0",
            "grid_template_areas": null,
            "object_position": null,
            "object_fit": null,
            "grid_auto_columns": null,
            "margin": null,
            "display": null,
            "left": null
          }
        },
        "bb0b56c57cc14e909cea5952783d0d7a": {
          "model_module": "@jupyter-widgets/controls",
          "model_name": "DescriptionStyleModel",
          "state": {
            "_view_name": "StyleView",
            "_model_name": "DescriptionStyleModel",
            "description_width": "",
            "_view_module": "@jupyter-widgets/base",
            "_model_module_version": "1.5.0",
            "_view_count": null,
            "_view_module_version": "1.2.0",
            "_model_module": "@jupyter-widgets/controls"
          }
        },
        "e8e7fc276dd2427a9f7860b08a115cbd": {
          "model_module": "@jupyter-widgets/base",
          "model_name": "LayoutModel",
          "state": {
            "_view_name": "LayoutView",
            "grid_template_rows": null,
            "right": null,
            "justify_content": null,
            "_view_module": "@jupyter-widgets/base",
            "overflow": null,
            "_model_module_version": "1.2.0",
            "_view_count": null,
            "flex_flow": null,
            "width": null,
            "min_width": null,
            "border": null,
            "align_items": null,
            "bottom": null,
            "_model_module": "@jupyter-widgets/base",
            "top": null,
            "grid_column": null,
            "overflow_y": null,
            "overflow_x": null,
            "grid_auto_flow": null,
            "grid_area": null,
            "grid_template_columns": null,
            "flex": null,
            "_model_name": "LayoutModel",
            "justify_items": null,
            "grid_row": null,
            "max_height": null,
            "align_content": null,
            "visibility": null,
            "align_self": null,
            "height": null,
            "min_height": null,
            "padding": null,
            "grid_auto_rows": null,
            "grid_gap": null,
            "max_width": null,
            "order": null,
            "_view_module_version": "1.2.0",
            "grid_template_areas": null,
            "object_position": null,
            "object_fit": null,
            "grid_auto_columns": null,
            "margin": null,
            "display": null,
            "left": null
          }
        }
      }
    }
  },
  "cells": [
    {
      "cell_type": "markdown",
      "metadata": {
        "id": "view-in-github",
        "colab_type": "text"
      },
      "source": [
        "<a href=\"https://colab.research.google.com/github/atick-faisal/Hand-Gesture-Classification/blob/master/training_analysis.ipynb\" target=\"_parent\"><img src=\"https://colab.research.google.com/assets/colab-badge.svg\" alt=\"Open In Colab\"/></a>"
      ]
    },
    {
      "cell_type": "markdown",
      "metadata": {
        "id": "TKz-06wTxKbt"
      },
      "source": [
        "# **Import** Data\n",
        "\n"
      ]
    },
    {
      "cell_type": "code",
      "metadata": {
        "colab": {
          "base_uri": "https://localhost:8080/"
        },
        "id": "kxrgIzHctUQj",
        "outputId": "54a395a9-599b-43b5-efb5-5347804bdef1"
      },
      "source": [
        "!git clone https://github.com/farhanfuadabir/Hand-Gesture-Recognition.git\n",
        "!unzip -q /content/Hand-Gesture-Recognition/ContinuousDataAcquisitionPython/Data_032021/\\*.zip -d /content/"
      ],
      "execution_count": 2,
      "outputs": [
        {
          "output_type": "stream",
          "text": [
            "fatal: destination path 'Hand-Gesture-Recognition' already exists and is not an empty directory.\n",
            "replace /content/003/a.csv? [y]es, [n]o, [A]ll, [N]one, [r]ename: A\n",
            "\n",
            "6 archives were successfully processed.\n"
          ],
          "name": "stdout"
        }
      ]
    },
    {
      "cell_type": "markdown",
      "metadata": {
        "id": "V-PLhB0PxXM7"
      },
      "source": [
        "# **Load** Dependencies"
      ]
    },
    {
      "cell_type": "code",
      "metadata": {
        "id": "Erl7gSKzOqvW"
      },
      "source": [
        "import os\n",
        "import pandas as pd\n",
        "import numpy as np\n",
        "from joblib import load, dump\n",
        "from tqdm.notebook import tqdm\n",
        "from sklearn import preprocessing\n",
        "import matplotlib.pyplot as plt"
      ],
      "execution_count": 3,
      "outputs": []
    },
    {
      "cell_type": "markdown",
      "metadata": {
        "id": "bu7-xHlEyrht"
      },
      "source": [
        "## **Constants**"
      ]
    },
    {
      "cell_type": "code",
      "metadata": {
        "colab": {
          "base_uri": "https://localhost:8080/"
        },
        "id": "7cgj5QFqNlQL",
        "outputId": "95c3c2b7-8330-44e8-c1b6-7bd7e5b321fb"
      },
      "source": [
        "# Indicate segmentLength, recorditeration according to the 'serialDataAcquisition_segmented.py' script\n",
        "segmentLength = 150\n",
        "recorditeration = 10\n",
        "\n",
        "# ColumnNames according to the 'serialDataAcquisition_segmented.py' script\n",
        "columnName = ['timestamp', 'user_id',\n",
        "              'flex_1', 'flex_2', 'flex_3', 'flex_4', 'flex_5',\n",
        "              'Qw', 'Qx', 'Qy', 'Qz',\n",
        "              'GYRx', 'GYRy', 'GYRz',\n",
        "              'ACCx', 'ACCy', 'ACCz',\n",
        "              'ACCx_body', 'ACCy_body', 'ACCz_body',\n",
        "              'ACCx_world', 'ACCy_world', 'ACCz_world']\n",
        "\n",
        "# gestures = get_gesture_names(userPath)\n",
        "gestures = ['a', 'b', 'c', 'd', 'e', 'f', 'g', 'h', 'i', 'j', 'k', 'l', 'm', \n",
        "            'n', 'o', 'p', 'q', 'r', 's', 't', 'u', 'v', 'w', 'x', 'y', 'z',\n",
        "            'bad', 'deaf', 'fine', 'good', 'goodbye', 'hello', 'hungry',\n",
        "            'me', 'no', 'please', 'sorry', 'thankyou', 'yes', 'you']\n",
        "\n",
        "print('Gesture List: ', gestures)\n",
        "print('Number of Gestures: ', len(gestures))\n",
        "\n",
        "label_encoder = preprocessing.LabelEncoder()\n",
        "label_encoder.fit(gestures)\n",
        "print(\"Number of Gestures Encoded: \", len(label_encoder.classes_))"
      ],
      "execution_count": 4,
      "outputs": [
        {
          "output_type": "stream",
          "text": [
            "Gesture List:  ['a', 'b', 'c', 'd', 'e', 'f', 'g', 'h', 'i', 'j', 'k', 'l', 'm', 'n', 'o', 'p', 'q', 'r', 's', 't', 'u', 'v', 'w', 'x', 'y', 'z', 'bad', 'deaf', 'fine', 'good', 'goodbye', 'hello', 'hungry', 'me', 'no', 'please', 'sorry', 'thankyou', 'yes', 'you']\n",
            "Number of Gestures:  40\n",
            "Number of Gestures Encoded:  40\n"
          ],
          "name": "stdout"
        }
      ]
    },
    {
      "cell_type": "markdown",
      "metadata": {
        "id": "3Uvv_C1Cxeuw"
      },
      "source": [
        "# **Load** Functions"
      ]
    },
    {
      "cell_type": "code",
      "metadata": {
        "id": "modXEnYLwqkm"
      },
      "source": [
        "def get_gesture_names(userPath):\n",
        "  # Extract gesture names from the filenames\n",
        "  _, _, filenames = next(os.walk(userPath))\n",
        "  gestures = [os.path.splitext(x)[0] for x in filenames]\n",
        "  gestures = sorted(gestures, key=lambda x: (len(x), x))\n",
        "\n",
        "  return gestures\n",
        "\n",
        "def extract_channels(columns, segmentLength, recorditeration, writeFormat='JOBLIB'):\n",
        "  # Make a directory named 'Channels' in the 'storePath' if there is none already\n",
        "  if not os.path.isdir(storePath):\n",
        "    currentPath = os.getcwd()\n",
        "    os.mkdir(currentPath + '/' + storePath)\n",
        "    print(\"Created Folder: \", currentPath + '/' + storePath)\n",
        "\n",
        "  if 'user_id' in columns:\n",
        "    columns.remove('user_id')\n",
        "\n",
        "  for file in gestures:\n",
        "    # Make a directory after the gesture name in the 'Channels' folder, if there is none already\n",
        "    if not os.path.isdir(storePath + '/' + file):\n",
        "      currentPath = os.getcwd()\n",
        "      os.mkdir(currentPath + '/' + storePath + '/' + file)\n",
        "\n",
        "    source = pd.read_csv(userPath + '/' + file + '.csv')    \n",
        "    \n",
        "    for channel in columns:\n",
        "      temp = source[channel].to_numpy()    \n",
        "      arr = np.expand_dims(temp, axis=0).reshape(-1,segmentLength)\n",
        "      if writeFormat.lower() == 'joblib':\n",
        "        dump(arr, storePath + '/' + file + '/' + channel + '.joblib')\n",
        "      elif writeFormat.lower() == 'csv':\n",
        "        np.savetxt(storePath + '/' + file + '/' + channel + '.csv', arr, delimiter=\",\")\n",
        "      else:\n",
        "        raise ValueError(\"Invalid WriteFormat. This function can only write 'CSV' or 'JOBLIB'.\")\n",
        "  \n",
        "  compile_channels(columns, storePath)\n",
        "\n",
        "\n",
        "def compile_channels(columnName, storePath, verbose=False):\n",
        "  for channel in columnName:\n",
        "    df = pd.DataFrame()\n",
        "\n",
        "    for file in gestures:\n",
        "      temp = load(storePath + '/' + file + '/' + channel + '.joblib')\n",
        "      temp = pd.DataFrame(temp)\n",
        "      #to add label with the data\n",
        "      temp = temp.assign(label=file)   \n",
        "      df = df.append(temp, ignore_index=True)\n",
        "    \n",
        "    if verbose == True:\n",
        "      print('Processing ', channel, '... Done | shape: ', df.shape)\n",
        "    \n",
        "    if not os.path.isdir(storePath + '/Channels'):\n",
        "      currentPath = os.getcwd()\n",
        "      os.mkdir(currentPath + '/' + storePath + '/Channels')\n",
        "    \n",
        "    dump(df['label'], storePath + '/label' + '.joblib')\n",
        "    df = df.drop(['label'], axis=1)\n",
        "    dump(df, storePath + '/Channels/' + channel + '.joblib')\n",
        "\n",
        "\n",
        "def extract_features(storePath):\n",
        "\n",
        "  FLEX1 = load(storePath + '/Channels/flex_1.joblib')\n",
        "  FLEX2 = load(storePath + '/Channels/flex_2.joblib')\n",
        "  FLEX3 = load(storePath + '/Channels/flex_3.joblib')\n",
        "  FLEX4 = load(storePath + '/Channels/flex_4.joblib')\n",
        "  FLEX5 = load(storePath + '/Channels/flex_5.joblib')\n",
        "\n",
        "  ACCx = load(storePath + '/Channels/ACCx_world.joblib')\n",
        "  ACCy = load(storePath + '/Channels/ACCy_world.joblib')\n",
        "  ACCz = load(storePath + '/Channels/ACCz_world.joblib')\n",
        "\n",
        "  ACCm = np.sqrt(ACCx**2 + ACCy**2 + ACCz**2)\n",
        "  dump(ACCm, storePath + '/Channels/ACCm_world.joblib')\n",
        "\n",
        "  GYRx = load(storePath + '/Channels/GYRx.joblib')\n",
        "  GYRy = load(storePath + '/Channels/GYRy.joblib')\n",
        "  GYRz = load(storePath + '/Channels/GYRz.joblib')\n",
        "\n",
        "  GYRm = np.sqrt(GYRx**2 + GYRy**2 + GYRz**2)\n",
        "  dump(GYRm, storePath + '/Channels/GYRm_world.joblib')\n",
        "\n",
        "  feat_ACCx = calculate_stat_features(ACCx, prefix=\"ACCx\")\n",
        "  feat_ACCy = calculate_stat_features(ACCy, prefix=\"ACCy\")\n",
        "  feat_ACCz = calculate_stat_features(ACCz, prefix=\"ACCz\")\n",
        "  feat_ACCm = calculate_stat_features(ACCm, prefix=\"ACCm\")\n",
        "  feat_GYRx = calculate_stat_features(GYRx, prefix=\"GYRx\")\n",
        "  feat_GYRy = calculate_stat_features(GYRy, prefix=\"GYRy\")\n",
        "  feat_GYRz = calculate_stat_features(GYRz, prefix=\"GYRz\")\n",
        "  feat_GYRm = calculate_stat_features(GYRm, prefix=\"GYRm\")\n",
        "  feat_FLEX1 = calculate_stat_features(FLEX1, prefix=\"FLEX1\")\n",
        "  feat_FLEX2 = calculate_stat_features(FLEX2, prefix=\"FLEX2\")\n",
        "  feat_FLEX3 = calculate_stat_features(FLEX3, prefix=\"FLEX3\")\n",
        "  feat_FLEX4 = calculate_stat_features(FLEX4, prefix=\"FLEX4\")\n",
        "  feat_FLEX5 = calculate_stat_features(FLEX5, prefix=\"FLEX5\")\n",
        "\n",
        "  X = pd.concat([feat_ACCx, feat_ACCy, feat_ACCz, feat_ACCm, \n",
        "                 feat_GYRx, feat_GYRy, feat_GYRz, feat_GYRm,\n",
        "                 feat_FLEX1, feat_FLEX2, feat_FLEX3, feat_FLEX4, \n",
        "                 feat_FLEX5], axis=1)\n",
        "  return X\n",
        "\n",
        "\n",
        "def calculate_stat_features(channel, prefix=''):\n",
        "  \n",
        "    from scipy.stats import median_absolute_deviation, iqr\n",
        "    import numpy as np\n",
        "    import pandas as pd\n",
        "\n",
        "    mean = np.mean(channel, axis=1)\n",
        "    std = np.std(channel, axis=1)\n",
        "    max = np.max(channel, axis=1)\n",
        "    min = np.min(channel, axis=1)\n",
        "    mad = median_absolute_deviation(channel, axis=1)\n",
        "    iqr = iqr(channel, axis=1)\n",
        "    \n",
        "    columnName = [prefix+'_mean', prefix+'_std', prefix+'_max', prefix+'_min', prefix+'_mad', prefix+'_iqr']\n",
        "    stat_features = pd.DataFrame(np.stack((mean, std, max, min, mad, iqr), axis=1), columns=columnName)\n",
        "  \n",
        "    return stat_features\n",
        "\n",
        "  "
      ],
      "execution_count": 5,
      "outputs": []
    },
    {
      "cell_type": "markdown",
      "metadata": {
        "id": "p-ABKEFtxxoP"
      },
      "source": [
        "# **Extract** Train Set and Test Set"
      ]
    },
    {
      "cell_type": "code",
      "metadata": {
        "colab": {
          "base_uri": "https://localhost:8080/"
        },
        "id": "LXQO46PMPBEe",
        "outputId": "702a42bd-0223-420e-c7b4-24533e3715a1"
      },
      "source": [
        "users = ['001', '002', '003', '004', '005', '006']\n",
        "train_users = ['001', '002', '003', '004', '006']\n",
        "test_users = [x for x in users if x not in train_users]\n",
        "\n",
        "print(\"Train Set User ID: \", train_users)\n",
        "print(\"Test Set User ID: \", test_users)"
      ],
      "execution_count": 6,
      "outputs": [
        {
          "output_type": "stream",
          "text": [
            "Train Set User ID:  ['001', '002', '003', '004', '006']\n",
            "Test Set User ID:  ['005']\n"
          ],
          "name": "stdout"
        }
      ]
    },
    {
      "cell_type": "code",
      "metadata": {
        "colab": {
          "base_uri": "https://localhost:8080/",
          "height": 0,
          "referenced_widgets": [
            "d8b9931151634079935c9827198a08c1",
            "1bc400bd197f4e67b94ae1dc62892e4f",
            "fe8e71bb465b46f38dabc32709c7c7ae",
            "0d1ac81f19ba4a1589209d31bc9fb9e6",
            "06bfa060d5e3433294c3cf040f07a0a8",
            "5438b0b8ac2744d08e989c70edfad872",
            "bcd3280396cc4501b66206d9fd86e077",
            "7e2a360114f441e8aeb2853c58e553f2",
            "a2e70a0665404829af8cfdaeab23c523",
            "fe3d5caa6be84673aac9119b8ea12b2a",
            "f137787f4fea4faaa559669e797f63db",
            "0d68dc84add34645ba3d614eff743f14",
            "367aaf79752b40699c10402e59d90f28",
            "1514e1782dcb4967b7e819574b72b3ee",
            "bb0b56c57cc14e909cea5952783d0d7a",
            "e8e7fc276dd2427a9f7860b08a115cbd"
          ]
        },
        "id": "cS_Fiuq3tQdc",
        "outputId": "407d9a04-e936-474b-b07a-d792569dff28"
      },
      "source": [
        "\n",
        "X_train = pd.DataFrame()\n",
        "y_train = pd.DataFrame()\n",
        "print(\"Processing Train Set...\")\n",
        "\n",
        "for user in tqdm(train_users):\n",
        "  userPath = user\n",
        "  storePath = userPath + '/' + 'Processed'\n",
        "  extract_channels(columnName, segmentLength, recorditeration, writeFormat='joblib')\n",
        "  X_temp = extract_features(storePath)\n",
        "  y_temp = load(storePath + '/label.joblib')\n",
        "  X_train = X_train.append(X_temp, ignore_index=True)\n",
        "  y_train = y_train.append(y_temp, ignore_index=True)\n",
        "\n",
        "y_train = y_train.to_numpy().ravel()\n",
        "y_train = label_encoder.transform(y_train)\n",
        "\n",
        "print(\"X_train shape: \", X_train.shape)\n",
        "print(\"y_train shape: \", y_train.shape)\n",
        "\n",
        "\n",
        "X_test = pd.DataFrame()\n",
        "y_test = pd.DataFrame()\n",
        "print(\"\\nProcessing Test Set...\")\n",
        "\n",
        "for user in tqdm(test_users):\n",
        "  userPath = user\n",
        "  storePath = userPath + '/' + 'Processed' \n",
        "  extract_channels(columnName, segmentLength, recorditeration, writeFormat='joblib')\n",
        "  X_temp = extract_features(storePath)\n",
        "  y_temp = load(storePath + '/label.joblib')\n",
        "  X_test = X_test.append(X_temp, ignore_index=True)\n",
        "  y_test = y_test.append(y_temp, ignore_index=True)\n",
        "\n",
        "y_test = y_test.to_numpy().ravel()\n",
        "y_test = label_encoder.transform(y_test)\n",
        "\n",
        "print(\"X_test shape: \", X_test.shape)\n",
        "print(\"y_test shape: \", y_test.shape)"
      ],
      "execution_count": 7,
      "outputs": [
        {
          "output_type": "stream",
          "text": [
            "Processing Train Set...\n"
          ],
          "name": "stdout"
        },
        {
          "output_type": "display_data",
          "data": {
            "application/vnd.jupyter.widget-view+json": {
              "model_id": "d8b9931151634079935c9827198a08c1",
              "version_minor": 0,
              "version_major": 2
            },
            "text/plain": [
              "HBox(children=(FloatProgress(value=0.0, max=5.0), HTML(value='')))"
            ]
          },
          "metadata": {
            "tags": []
          }
        },
        {
          "output_type": "stream",
          "text": [
            "\n",
            "X_train shape:  (2000, 78)\n",
            "y_train shape:  (2000,)\n",
            "\n",
            "Processing Test Set...\n"
          ],
          "name": "stdout"
        },
        {
          "output_type": "display_data",
          "data": {
            "application/vnd.jupyter.widget-view+json": {
              "model_id": "a2e70a0665404829af8cfdaeab23c523",
              "version_minor": 0,
              "version_major": 2
            },
            "text/plain": [
              "HBox(children=(FloatProgress(value=0.0, max=1.0), HTML(value='')))"
            ]
          },
          "metadata": {
            "tags": []
          }
        },
        {
          "output_type": "stream",
          "text": [
            "\n",
            "X_test shape:  (400, 78)\n",
            "y_test shape:  (400,)\n"
          ],
          "name": "stdout"
        }
      ]
    },
    {
      "cell_type": "markdown",
      "metadata": {
        "id": "NaimpmsdU53y"
      },
      "source": [
        "# **Train** Batch Classifier"
      ]
    },
    {
      "cell_type": "code",
      "metadata": {
        "id": "SB1I2O2h6eiH"
      },
      "source": [
        "\n",
        "import pandas as pd\n",
        "import numpy as np\n",
        "# import seaborn as sns\n",
        "import matplotlib.pyplot as plt\n",
        "import time\n",
        "from sklearn.model_selection import train_test_split, cross_val_score\n",
        "from sklearn.metrics import classification_report, confusion_matrix, accuracy_score\n",
        "from sklearn.decomposition import PCA\n",
        "from sklearn.preprocessing import StandardScaler, LabelEncoder\n",
        "from sklearn.linear_model import LogisticRegression\n",
        "from sklearn.svm import SVC\n",
        "from sklearn.neighbors import KNeighborsClassifier\n",
        "from sklearn import tree\n",
        "from sklearn.neural_network import MLPClassifier\n",
        "from sklearn.neighbors import KNeighborsClassifier\n",
        "from sklearn.ensemble import GradientBoostingClassifier, AdaBoostClassifier\n",
        "from sklearn.gaussian_process.kernels import RBF\n",
        "from sklearn.ensemble import RandomForestClassifier\n",
        "from sklearn.naive_bayes import GaussianNB\n",
        "from sklearn.discriminant_analysis import QuadraticDiscriminantAnalysis\n",
        "from sklearn.gaussian_process import GaussianProcessClassifier\n",
        "\n",
        "\n",
        "dict_classifiers = {\n",
        "    \"Logistic Regression\": LogisticRegression(max_iter=1000,solver='saga'),\n",
        "    \"Nearest Neighbors\": KNeighborsClassifier(),\n",
        "    \"RBF SVM\": SVC(C=10000,gamma=0.1),\n",
        "    \"Linear SVM\": SVC(kernel='linear'),\n",
        "    \"Gradient Boosting Classifier\": GradientBoostingClassifier(n_estimators=1000),\n",
        "    \"Decision Tree\": tree.DecisionTreeClassifier(),\n",
        "    \"Random Forest\": RandomForestClassifier(n_estimators=1000),\n",
        "    \"Neural Net\": MLPClassifier(alpha = 1),\n",
        "    \"Naive Bayes\": GaussianNB(),\n",
        "    \"AdaBoost\": AdaBoostClassifier(),\n",
        "    \"QDA\": QuadraticDiscriminantAnalysis(),\n",
        "    \"Gaussian Process\": GaussianProcessClassifier()\n",
        "}\n",
        "\n",
        "\n",
        "def batch_classify(X_train, Y_train, X_test, Y_test, no_classifiers = 5, verbose = True):\n",
        "    \"\"\"\n",
        "    This method, takes as input the X, Y matrices of the Train and Test set.\n",
        "    And fits them on all of the Classifiers specified in the dict_classifier.\n",
        "    The trained models, and accuracies are saved in a dictionary. The reason to use a dictionary\n",
        "    is because it is very easy to save the whole dictionary with the pickle module.\n",
        "\n",
        "    Usually, the SVM, Random Forest and Gradient Boosting Classifier take quiet some time to train.\n",
        "    So it is best to train them on a smaller dataset first and\n",
        "    decide whether you want to comment them out or not based on the test accuracy score.\n",
        "    \"\"\"\n",
        "\n",
        "    dict_models = {}\n",
        "    for classifier_name, classifier in list(dict_classifiers.items())[:no_classifiers]:\n",
        "        t_start = time.time()\n",
        "        classifier.fit(X_train, Y_train)\n",
        "        t_end = time.time()\n",
        "\n",
        "        t_diff = t_end - t_start\n",
        "        train_score = classifier.score(X_train, Y_train)\n",
        "        test_score = classifier.score(X_test, Y_test)\n",
        "\n",
        "        dict_models[classifier_name] = {'model': classifier, 'train_score': train_score, 'test_score': test_score, 'train_time': t_diff}\n",
        "        if verbose:\n",
        "            print(\"trained {c} in {f:.2f} s\".format(c=classifier_name, f=t_diff))\n",
        "    return dict_models\n",
        "\n",
        "\n",
        "\n",
        "def display_dict_models(dict_models, sort_by='test_score'):\n",
        "    cls = [key for key in dict_models.keys()]\n",
        "    test_s = [dict_models[key]['test_score'] for key in cls]\n",
        "    training_s = [dict_models[key]['train_score'] for key in cls]\n",
        "    training_t = [dict_models[key]['train_time'] for key in cls]\n",
        "\n",
        "    df_ = pd.DataFrame(data=np.zeros(shape=(len(cls),4)), columns = ['classifier', 'train_score', 'test_score', 'train_time'])\n",
        "    for ii in range(0,len(cls)):\n",
        "        df_.loc[ii, 'classifier'] = cls[ii]\n",
        "        df_.loc[ii, 'train_score'] = training_s[ii]\n",
        "        df_.loc[ii, 'test_score'] = test_s[ii]\n",
        "        df_.loc[ii, 'train_time'] = training_t[ii]\n",
        "\n",
        "    display(df_.sort_values(by=sort_by, ascending=False))\n",
        "\n",
        "\n",
        "# Train-Test Split\n",
        "# X_tr, X_test, y_tr, y_test = train_test_split(X_train, y_train, test_size = 0.20, random_state=1234)\n",
        "\n",
        "dict_models = batch_classify(X_train, y_train, X_test, y_test, no_classifiers = 10)\n",
        "display_dict_models(dict_models)"
      ],
      "execution_count": null,
      "outputs": []
    },
    {
      "cell_type": "markdown",
      "metadata": {
        "id": "YWxUixE6UGzW"
      },
      "source": [
        "# **Classify**"
      ]
    },
    {
      "cell_type": "code",
      "metadata": {
        "colab": {
          "base_uri": "https://localhost:8080/",
          "height": 1000
        },
        "id": "kYKRD2w0bX9D",
        "outputId": "d4a01d36-1239-4000-ed88-866d2dc1d803"
      },
      "source": [
        "#@title #**Classifier**\n",
        "\n",
        "from sklearn.model_selection import train_test_split, cross_val_score\n",
        "from sklearn.metrics import classification_report, confusion_matrix, accuracy_score\n",
        "from sklearn.decomposition import PCA\n",
        "from sklearn.preprocessing import StandardScaler, LabelEncoder\n",
        "from sklearn.linear_model import LogisticRegression\n",
        "from sklearn.svm import SVC\n",
        "from sklearn.neighbors import KNeighborsClassifier\n",
        "from sklearn import tree\n",
        "from sklearn.neural_network import MLPClassifier\n",
        "from sklearn.neighbors import KNeighborsClassifier\n",
        "from sklearn.ensemble import GradientBoostingClassifier, AdaBoostClassifier\n",
        "from sklearn.gaussian_process.kernels import RBF\n",
        "from sklearn.ensemble import RandomForestClassifier\n",
        "from sklearn.naive_bayes import GaussianNB\n",
        "from sklearn.discriminant_analysis import QuadraticDiscriminantAnalysis\n",
        "from sklearn.gaussian_process import GaussianProcessClassifier\n",
        "from sklearn.metrics import plot_confusion_matrix\n",
        "\n",
        "dict_classifiers = {\n",
        "    \"Logistic Regression\": LogisticRegression(max_iter=1000,solver='saga'),\n",
        "    \"Nearest Neighbors\": KNeighborsClassifier(),\n",
        "    \"RBF SVM\": SVC(C=10000,gamma=0.1),\n",
        "    \"Linear SVM\": SVC(kernel='linear'),\n",
        "    \"Gradient Boosting Classifier\": GradientBoostingClassifier(n_estimators=1000),\n",
        "    \"Decision Tree\": tree.DecisionTreeClassifier(),\n",
        "    \"Random Forest\": RandomForestClassifier(n_estimators=1000),\n",
        "    \"Neural Net\": MLPClassifier(alpha = 1),\n",
        "    \"Naive Bayes\": GaussianNB(),\n",
        "    \"AdaBoost\": AdaBoostClassifier(),\n",
        "    \"QDA\": QuadraticDiscriminantAnalysis(),\n",
        "    \"Gaussian Process\": GaussianProcessClassifier()\n",
        "}\n",
        "\n",
        "#@markdown ###Select classifier\n",
        "classifier = \"Random Forest\" #@param [\"Logistic Regression\", \"Nearest Neighbors\", \"RBF SVM\", \"Linear SVM\", \"Gradient Boosting Classifier\", \"Decision Tree\", \"Random Forest\", \"Neural Net\", \"Naive Bayes\", \"AdaBoost\", \"QDA\", \"Gaussian Process\"]\n",
        "clf = dict_classifiers[classifier]\n",
        "\n",
        "clf.fit(X_train,y_train)\n",
        "y_pred = clf.predict(X_test)\n",
        "\n",
        "print(\"Test Accuracy: %0.2f\" %(accuracy_score(y_test,y_pred)))\n",
        "if len(set(y_test)) > len(set(y_pred)):\n",
        "  print(\"The model did not predict the following classes at all...\")\n",
        "  print(label_encoder.inverse_transform(list(set(y_test) - set(y_pred))))\n",
        "\n",
        "print(\"\\n\\n\")\n",
        "\n",
        "show_classification_report = True #@param {type:\"boolean\"}\n",
        "if show_classification_report:\n",
        "  print(classification_report(y_test, y_pred))\n",
        "\n",
        "\n",
        "show_confusion_matrix = True #@param {type:\"boolean\"}\n",
        "if show_confusion_matrix:\n",
        "  fig, ax = plt.subplots(figsize=(15, 15))\n",
        "  title = \"Confusion Matrix\"\n",
        "  ax.set_title(title)\n",
        "  ax.set_facecolor('xkcd:white')\n",
        "\n",
        "  # Plot Confusion Matrix\n",
        "  plot_confusion_matrix(clf, X_test, y_test, ax=ax, display_labels=list(label_encoder.classes_))\n",
        "  # plot_confusion_matrix(clf, X_test, y_test, ax=ax, display_labels=list(label_encoder.classes_),\n",
        "  #                             cmap=plt.cm.Blues,\n",
        "  #                             normalize=None)\n",
        "\n",
        "  plt.xticks(rotation=90)\n",
        "  plt.show()\n",
        "\n",
        "#@markdown ---"
      ],
      "execution_count": 28,
      "outputs": [
        {
          "output_type": "stream",
          "text": [
            "Test Accuracy: 0.81\n",
            "The model did not predict the following classes at all...\n",
            "['l']\n",
            "\n",
            "\n",
            "\n",
            "              precision    recall  f1-score   support\n",
            "\n",
            "           0       1.00      1.00      1.00        10\n",
            "           1       1.00      1.00      1.00        10\n",
            "           2       1.00      1.00      1.00        10\n",
            "           3       0.29      0.20      0.24        10\n",
            "           4       0.40      1.00      0.57        10\n",
            "           5       1.00      1.00      1.00        10\n",
            "           6       0.38      0.60      0.46        10\n",
            "           7       1.00      1.00      1.00        10\n",
            "           8       1.00      1.00      1.00        10\n",
            "           9       1.00      1.00      1.00        10\n",
            "          10       1.00      0.10      0.18        10\n",
            "          11       1.00      1.00      1.00        10\n",
            "          12       1.00      1.00      1.00        10\n",
            "          13       0.50      1.00      0.67        10\n",
            "          14       0.90      0.90      0.90        10\n",
            "          15       1.00      1.00      1.00        10\n",
            "          16       1.00      1.00      1.00        10\n",
            "          17       1.00      0.90      0.95        10\n",
            "          18       0.00      0.00      0.00        10\n",
            "          19       0.91      1.00      0.95        10\n",
            "          20       0.70      0.70      0.70        10\n",
            "          21       0.89      0.80      0.84        10\n",
            "          22       1.00      1.00      1.00        10\n",
            "          23       0.36      0.50      0.42        10\n",
            "          24       1.00      1.00      1.00        10\n",
            "          25       0.91      1.00      0.95        10\n",
            "          26       1.00      1.00      1.00        10\n",
            "          27       0.91      1.00      0.95        10\n",
            "          28       0.00      0.00      0.00        10\n",
            "          29       1.00      1.00      1.00        10\n",
            "          30       1.00      0.10      0.18        10\n",
            "          31       0.00      0.00      0.00        10\n",
            "          32       1.00      0.90      0.95        10\n",
            "          33       0.91      1.00      0.95        10\n",
            "          34       1.00      1.00      1.00        10\n",
            "          35       0.77      1.00      0.87        10\n",
            "          36       1.00      1.00      1.00        10\n",
            "          37       1.00      1.00      1.00        10\n",
            "          38       0.70      0.70      0.70        10\n",
            "          39       1.00      1.00      1.00        10\n",
            "\n",
            "    accuracy                           0.81       400\n",
            "   macro avg       0.81      0.81      0.79       400\n",
            "weighted avg       0.81      0.81      0.79       400\n",
            "\n"
          ],
          "name": "stdout"
        },
        {
          "output_type": "stream",
          "text": [
            "/usr/local/lib/python3.7/dist-packages/sklearn/metrics/_classification.py:1272: UndefinedMetricWarning: Precision and F-score are ill-defined and being set to 0.0 in labels with no predicted samples. Use `zero_division` parameter to control this behavior.\n",
            "  _warn_prf(average, modifier, msg_start, len(result))\n"
          ],
          "name": "stderr"
        },
        {
          "output_type": "display_data",
          "data": {
            "image/png": "[encoded data removed]",
            "text/plain": [
              "<Figure size 1080x1080 with 2 Axes>"
            ]
          },
          "metadata": {
            "tags": [],
            "needs_background": "light"
          }
        }
      ]
    },
    {
      "cell_type": "code",
      "metadata": {
        "colab": {
          "base_uri": "https://localhost:8080/"
        },
        "id": "M63nApXs3-uh",
        "outputId": "dc71c047-00ee-47ca-b9b5-dab079ce083c"
      },
      "source": [
        "from sklearn.model_selection import train_test_split, cross_val_score\n",
        "from sklearn.metrics import classification_report, confusion_matrix, accuracy_score\n",
        "from sklearn.tree import DecisionTreeClassifier\n",
        "from sklearn.svm import SVC\n",
        "from sklearn.linear_model import LogisticRegression\n",
        "from sklearn.ensemble import RandomForestClassifier, AdaBoostClassifier\n",
        "from sklearn.naive_bayes import GaussianNB\n",
        "from sklearn.neighbors import KNeighborsClassifier\n",
        "\n",
        "from sklearn.utils import shuffle\n",
        "X_train, y_train = shuffle(X_train, y_train, random_state=134)\n",
        "X_test, y_test = shuffle(X_test, y_test, random_state=43)\n",
        "\n",
        "# clf = GaussianNB()\n",
        "clf = RandomForestClassifier(n_estimators=100)\n",
        "#clf = LogisticRegression()\n",
        "# clf = DecisionTreeClassifier()\n",
        "# clf = KNeighborsClassifier(n_neighbors=5)\n",
        "# clf = SVC(kernel='linear', C=1)\n",
        "#clf = SVC(kernel='rbf', C=1, gamma=0.1)\n",
        "# clf = SVC(kernel='poly', degree=1, C=1)\n",
        "# clf = AdaBoostClassifier()\n",
        "\n",
        "#train_test_split\n",
        "# X_train, X_test, y_train, y_test = train_test_split(X, y, test_size = 0.20, random_state = 1234)\n",
        "\n",
        "clf.fit(X_train,y_train)\n",
        "y_pred = clf.predict(X_test)\n",
        "\n",
        "print(\"Accuracy: %0.2f\" %(accuracy_score(y_test,y_pred)))"
      ],
      "execution_count": null,
      "outputs": [
        {
          "output_type": "stream",
          "text": [
            "Accuracy using train_test_split: 0.80\n"
          ],
          "name": "stdout"
        }
      ]
    },
    {
      "cell_type": "markdown",
      "metadata": {
        "id": "raadxEyHYONe"
      },
      "source": [
        "## **Plot** Confusion Matrix"
      ]
    },
    {
      "cell_type": "code",
      "metadata": {
        "colab": {
          "base_uri": "https://localhost:8080/",
          "height": 856
        },
        "id": "fOGPDUJ-YR3Z",
        "outputId": "0edf6fe5-64b2-42ac-c81f-2659b3236eb8"
      },
      "source": [
        "from sklearn.metrics import plot_confusion_matrix\n",
        "\n",
        "fig, ax = plt.subplots(figsize=(15, 15))\n",
        "title = \"Confusion Matrix\"\n",
        "ax.set_title(title)\n",
        "ax.set_facecolor('tab:gray')\n",
        "\n",
        "# Plot Confusion Matrix\n",
        "plot_confusion_matrix(clf, X_test, y_test, ax=ax, display_labels=list(label_encoder.classes_))\n",
        "# plot_confusion_matrix(clf, X_test, y_test, ax=ax, display_labels=list(label_encoder.classes_),\n",
        "#                             cmap=plt.cm.Blues,\n",
        "#                             normalize=None)\n",
        "\n",
        "plt.xticks(rotation=90)\n",
        "\n",
        "plt.savefig('confusion_matrix.jpg', format='jpg')\n",
        "plt.show()"
      ],
      "execution_count": 32,
      "outputs": [
        {
          "output_type": "display_data",
          "data": {
            "image/png": "[encoded data removed]",
            "text/plain": [
              "<Figure size 1080x1080 with 2 Axes>"
            ]
          },
          "metadata": {
            "tags": [],
            "needs_background": "light"
          }
        }
      ]
    },
    {
      "cell_type": "code",
      "metadata": {
        "id": "kxbpJRq6aQuT"
      },
      "source": [
        ""
      ],
      "execution_count": 39,
      "outputs": []
    }
  ]
}