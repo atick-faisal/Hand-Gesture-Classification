{
 "cells": [
  {
   "cell_type": "markdown",
   "metadata": {},
   "source": [
    "# Gesture Classification\n",
    "### Classifier: K Nearest Neighbours\n",
    "### Accuracy: 70%"
   ]
  },
  {
   "cell_type": "code",
   "execution_count": 28,
   "metadata": {},
   "outputs": [],
   "source": [
    "import numpy as np\n",
    "import pandas as pd\n",
    "import matplotlib.pyplot as plt\n",
    "from sklearn.utils import shuffle\n",
    "from sklearn.neighbors import KNeighborsClassifier"
   ]
  },
  {
   "cell_type": "code",
   "execution_count": 30,
   "metadata": {},
   "outputs": [
    {
     "data": {
      "text/html": [
       "<div>\n",
       "<style scoped>\n",
       "    .dataframe tbody tr th:only-of-type {\n",
       "        vertical-align: middle;\n",
       "    }\n",
       "\n",
       "    .dataframe tbody tr th {\n",
       "        vertical-align: top;\n",
       "    }\n",
       "\n",
       "    .dataframe thead th {\n",
       "        text-align: right;\n",
       "    }\n",
       "</style>\n",
       "<table border=\"1\" class=\"dataframe\">\n",
       "  <thead>\n",
       "    <tr style=\"text-align: right;\">\n",
       "      <th></th>\n",
       "      <th>1</th>\n",
       "      <th>2</th>\n",
       "      <th>3</th>\n",
       "      <th>4</th>\n",
       "      <th>5</th>\n",
       "      <th>x</th>\n",
       "      <th>y</th>\n",
       "      <th>z</th>\n",
       "      <th>gesture</th>\n",
       "    </tr>\n",
       "  </thead>\n",
       "  <tbody>\n",
       "    <tr>\n",
       "      <th>0</th>\n",
       "      <td>3017.600098</td>\n",
       "      <td>2926.199951</td>\n",
       "      <td>3075.699951</td>\n",
       "      <td>2906.800049</td>\n",
       "      <td>3149.399902</td>\n",
       "      <td>17.211914</td>\n",
       "      <td>-4.931641</td>\n",
       "      <td>105.102539</td>\n",
       "      <td>Come Here</td>\n",
       "    </tr>\n",
       "    <tr>\n",
       "      <th>1</th>\n",
       "      <td>3009.300049</td>\n",
       "      <td>2931.600098</td>\n",
       "      <td>3086.100098</td>\n",
       "      <td>2905.500000</td>\n",
       "      <td>3152.300049</td>\n",
       "      <td>24.169922</td>\n",
       "      <td>0.634766</td>\n",
       "      <td>106.030273</td>\n",
       "      <td>Come Here</td>\n",
       "    </tr>\n",
       "    <tr>\n",
       "      <th>2</th>\n",
       "      <td>3005.500000</td>\n",
       "      <td>2930.500000</td>\n",
       "      <td>3090.000000</td>\n",
       "      <td>2913.100098</td>\n",
       "      <td>3159.800049</td>\n",
       "      <td>19.213867</td>\n",
       "      <td>-12.451172</td>\n",
       "      <td>108.471680</td>\n",
       "      <td>Come Here</td>\n",
       "    </tr>\n",
       "    <tr>\n",
       "      <th>3</th>\n",
       "      <td>3005.800049</td>\n",
       "      <td>2930.800049</td>\n",
       "      <td>3092.000000</td>\n",
       "      <td>2910.399902</td>\n",
       "      <td>3158.500000</td>\n",
       "      <td>20.727539</td>\n",
       "      <td>2.270508</td>\n",
       "      <td>109.057617</td>\n",
       "      <td>Come Here</td>\n",
       "    </tr>\n",
       "    <tr>\n",
       "      <th>4</th>\n",
       "      <td>2999.399902</td>\n",
       "      <td>2925.000000</td>\n",
       "      <td>3077.500000</td>\n",
       "      <td>2897.899902</td>\n",
       "      <td>3149.800049</td>\n",
       "      <td>31.738281</td>\n",
       "      <td>-7.885742</td>\n",
       "      <td>104.516602</td>\n",
       "      <td>Come Here</td>\n",
       "    </tr>\n",
       "  </tbody>\n",
       "</table>\n",
       "</div>"
      ],
      "text/plain": [
       "             1            2            3            4            5          x  \\\n",
       "0  3017.600098  2926.199951  3075.699951  2906.800049  3149.399902  17.211914   \n",
       "1  3009.300049  2931.600098  3086.100098  2905.500000  3152.300049  24.169922   \n",
       "2  3005.500000  2930.500000  3090.000000  2913.100098  3159.800049  19.213867   \n",
       "3  3005.800049  2930.800049  3092.000000  2910.399902  3158.500000  20.727539   \n",
       "4  2999.399902  2925.000000  3077.500000  2897.899902  3149.800049  31.738281   \n",
       "\n",
       "           y           z    gesture  \n",
       "0  -4.931641  105.102539  Come Here  \n",
       "1   0.634766  106.030273  Come Here  \n",
       "2 -12.451172  108.471680  Come Here  \n",
       "3   2.270508  109.057617  Come Here  \n",
       "4  -7.885742  104.516602  Come Here  "
      ]
     },
     "execution_count": 30,
     "metadata": {},
     "output_type": "execute_result"
    }
   ],
   "source": [
    "data = pd.read_csv('../Desktop_Software/data/dataset.csv')\n",
    "data.columns = ['1', '2', '3', '4', '5', 'x', 'y', 'z', 'gesture']\n",
    "#train_data = shuffle(data, random_state=42)\n",
    "train_data = data;\n",
    "train_data.head()"
   ]
  },
  {
   "cell_type": "code",
   "execution_count": 31,
   "metadata": {},
   "outputs": [],
   "source": [
    "X = train_data.drop(columns=['gesture'])\n",
    "Y = train_data['gesture']"
   ]
  },
  {
   "cell_type": "code",
   "execution_count": 32,
   "metadata": {},
   "outputs": [],
   "source": [
    "clf = KNeighborsClassifier(n_neighbors=3);\n",
    "clf.fit(X, Y);"
   ]
  },
  {
   "cell_type": "code",
   "execution_count": 33,
   "metadata": {},
   "outputs": [
    {
     "name": "stdout",
     "output_type": "stream",
     "text": [
      "100.0 %\n"
     ]
    }
   ],
   "source": [
    "print(clf.score(X, Y)*100 , \"%\")"
   ]
  },
  {
   "cell_type": "code",
   "execution_count": 34,
   "metadata": {},
   "outputs": [
    {
     "name": "stdout",
     "output_type": "stream",
     "text": [
      "[[0. 0. 0. 0. 0. 0. 0. 1. 0. 0. 0. 0. 0. 0.]]\n"
     ]
    }
   ],
   "source": [
    "print(clf.predict_proba([[3030.399902,2895.300049,3100.000000,2911.199951,3170.600098,-44.238281,-30.981445,64.526367]]))"
   ]
  },
  {
   "cell_type": "code",
   "execution_count": null,
   "metadata": {},
   "outputs": [],
   "source": []
  }
 ],
 "metadata": {
  "kernelspec": {
   "display_name": "Python 3",
   "language": "python",
   "name": "python3"
  },
  "language_info": {
   "codemirror_mode": {
    "name": "ipython",
    "version": 3
   },
   "file_extension": ".py",
   "mimetype": "text/x-python",
   "name": "python",
   "nbconvert_exporter": "python",
   "pygments_lexer": "ipython3",
   "version": "3.5.2"
  }
 },
 "nbformat": 4,
 "nbformat_minor": 2
}
