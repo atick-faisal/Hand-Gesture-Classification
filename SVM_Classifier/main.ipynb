{
 "cells": [
  {
   "cell_type": "markdown",
   "metadata": {},
   "source": [
    "# Gesture Classification\n",
    "### Classifier: Support Vector Machine\n",
    "### Accuracy: 54%"
   ]
  },
  {
   "cell_type": "code",
   "execution_count": 1,
   "metadata": {},
   "outputs": [],
   "source": [
    "import numpy as np\n",
    "import pandas as pd\n",
    "import matplotlib.pyplot as plt\n",
    "from sklearn.utils import shuffle\n",
    "from sklearn import svm"
   ]
  },
  {
   "cell_type": "code",
   "execution_count": 2,
   "metadata": {},
   "outputs": [
    {
     "data": {
      "text/html": [
       "<div>\n",
       "<style scoped>\n",
       "    .dataframe tbody tr th:only-of-type {\n",
       "        vertical-align: middle;\n",
       "    }\n",
       "\n",
       "    .dataframe tbody tr th {\n",
       "        vertical-align: top;\n",
       "    }\n",
       "\n",
       "    .dataframe thead th {\n",
       "        text-align: right;\n",
       "    }\n",
       "</style>\n",
       "<table border=\"1\" class=\"dataframe\">\n",
       "  <thead>\n",
       "    <tr style=\"text-align: right;\">\n",
       "      <th></th>\n",
       "      <th>1</th>\n",
       "      <th>2</th>\n",
       "      <th>3</th>\n",
       "      <th>4</th>\n",
       "      <th>5</th>\n",
       "      <th>x</th>\n",
       "      <th>y</th>\n",
       "      <th>z</th>\n",
       "      <th>gesture</th>\n",
       "    </tr>\n",
       "  </thead>\n",
       "  <tbody>\n",
       "    <tr>\n",
       "      <th>743</th>\n",
       "      <td>57.294434</td>\n",
       "      <td>-45.770996</td>\n",
       "      <td>-12.431641</td>\n",
       "      <td>61.128906</td>\n",
       "      <td>53.708496</td>\n",
       "      <td>20.800781</td>\n",
       "      <td>25.268555</td>\n",
       "      <td>-95.288086</td>\n",
       "      <td>Finger Crossed</td>\n",
       "    </tr>\n",
       "    <tr>\n",
       "      <th>1010</th>\n",
       "      <td>49.782715</td>\n",
       "      <td>29.845703</td>\n",
       "      <td>34.408691</td>\n",
       "      <td>43.765625</td>\n",
       "      <td>41.371094</td>\n",
       "      <td>23.901367</td>\n",
       "      <td>5.908203</td>\n",
       "      <td>-97.583008</td>\n",
       "      <td>Fist</td>\n",
       "    </tr>\n",
       "    <tr>\n",
       "      <th>1123</th>\n",
       "      <td>-80.617188</td>\n",
       "      <td>14.645508</td>\n",
       "      <td>29.208496</td>\n",
       "      <td>21.365723</td>\n",
       "      <td>31.571289</td>\n",
       "      <td>49.633789</td>\n",
       "      <td>95.825195</td>\n",
       "      <td>-22.363281</td>\n",
       "      <td>Thumbs Down</td>\n",
       "    </tr>\n",
       "    <tr>\n",
       "      <th>140</th>\n",
       "      <td>56.017090</td>\n",
       "      <td>28.459961</td>\n",
       "      <td>41.671387</td>\n",
       "      <td>33.380371</td>\n",
       "      <td>33.371582</td>\n",
       "      <td>-20.703125</td>\n",
       "      <td>-10.766602</td>\n",
       "      <td>91.723633</td>\n",
       "      <td>Come Here</td>\n",
       "    </tr>\n",
       "    <tr>\n",
       "      <th>554</th>\n",
       "      <td>-63.782715</td>\n",
       "      <td>14.965332</td>\n",
       "      <td>16.557129</td>\n",
       "      <td>11.434082</td>\n",
       "      <td>6.217285</td>\n",
       "      <td>2.319336</td>\n",
       "      <td>-84.692383</td>\n",
       "      <td>-44.580078</td>\n",
       "      <td>Thumbs Up</td>\n",
       "    </tr>\n",
       "  </tbody>\n",
       "</table>\n",
       "</div>"
      ],
      "text/plain": [
       "              1          2          3          4          5          x  \\\n",
       "743   57.294434 -45.770996 -12.431641  61.128906  53.708496  20.800781   \n",
       "1010  49.782715  29.845703  34.408691  43.765625  41.371094  23.901367   \n",
       "1123 -80.617188  14.645508  29.208496  21.365723  31.571289  49.633789   \n",
       "140   56.017090  28.459961  41.671387  33.380371  33.371582 -20.703125   \n",
       "554  -63.782715  14.965332  16.557129  11.434082   6.217285   2.319336   \n",
       "\n",
       "              y          z         gesture  \n",
       "743   25.268555 -95.288086  Finger Crossed  \n",
       "1010   5.908203 -97.583008            Fist  \n",
       "1123  95.825195 -22.363281     Thumbs Down  \n",
       "140  -10.766602  91.723633       Come Here  \n",
       "554  -84.692383 -44.580078       Thumbs Up  "
      ]
     },
     "execution_count": 2,
     "metadata": {},
     "output_type": "execute_result"
    }
   ],
   "source": [
    "data = pd.read_csv('../Desktop_Software/data/dataset.csv')\n",
    "data.columns = ['1', '2', '3', '4', '5', 'x', 'y', 'z', 'gesture']\n",
    "train_data = shuffle(data, random_state=42)\n",
    "train_data.head()"
   ]
  },
  {
   "cell_type": "code",
   "execution_count": 3,
   "metadata": {},
   "outputs": [],
   "source": [
    "X = train_data.drop(columns=['gesture'])\n",
    "Y = train_data['gesture']"
   ]
  },
  {
   "cell_type": "code",
   "execution_count": 4,
   "metadata": {},
   "outputs": [],
   "source": [
    "clf = svm.SVC(gamma='scale');\n",
    "clf.fit(X, Y);"
   ]
  },
  {
   "cell_type": "code",
   "execution_count": 5,
   "metadata": {},
   "outputs": [
    {
     "name": "stdout",
     "output_type": "stream",
     "text": [
      "100.0 %\n"
     ]
    }
   ],
   "source": [
    "print(clf.score(X, Y)*100 , \"%\")"
   ]
  },
  {
   "cell_type": "code",
   "execution_count": null,
   "metadata": {},
   "outputs": [],
   "source": []
  }
 ],
 "metadata": {
  "kernelspec": {
   "display_name": "Python 3",
   "language": "python",
   "name": "python3"
  },
  "language_info": {
   "codemirror_mode": {
    "name": "ipython",
    "version": 3
   },
   "file_extension": ".py",
   "mimetype": "text/x-python",
   "name": "python",
   "nbconvert_exporter": "python",
   "pygments_lexer": "ipython3",
   "version": "3.5.2"
  }
 },
 "nbformat": 4,
 "nbformat_minor": 2
}
